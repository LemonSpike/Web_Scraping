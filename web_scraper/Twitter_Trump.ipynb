{
 "cells": [
  {
   "cell_type": "code",
   "execution_count": 14,
   "metadata": {
    "pycharm": {
     "is_executing": false
    }
   },
   "outputs": [],
   "source": [
    "from selenium import webdriver\n",
    "from selenium.webdriver.common.keys import Keys\n",
    "from selenium.webdriver.support.ui import WebDriverWait\n",
    "from selenium.webdriver.support import expected_conditions as EC\n",
    "from selenium.webdriver.common.by import By\n",
    "from selenium.common.exceptions import NoSuchElementException, TimeoutException\n",
    "from time import sleep\n",
    "\n",
    "driver = webdriver.Chrome()\n",
    "driver.set_window_size(1038, 806)\n",
    "driver.set_window_position(0, 200)\n",
    "driver.get(\"http://www.twitter.com\")"
   ]
  },
  {
   "cell_type": "code",
   "execution_count": 15,
   "metadata": {
    "pycharm": {
     "is_executing": false
    }
   },
   "outputs": [],
   "source": [
    "# Function of waiting until the present of the element on the web page\n",
    "def waiting_func(by_variable, attribute):\n",
    "    try:\n",
    "        WebDriverWait(driver, 20).until(lambda x: x.find_element(by=by_variable,  value=attribute))\n",
    "    except (NoSuchElementException, TimeoutException):\n",
    "        print('{} {} not found'.format(by_variable, attribute))\n",
    "        exit()"
   ]
  },
  {
   "cell_type": "code",
   "execution_count": 16,
   "metadata": {
    "pycharm": {
     "is_executing": false
    }
   },
   "outputs": [],
   "source": [
    "waiting_func(By.NAME, \"session[username_or_email]\")"
   ]
  },
  {
   "cell_type": "code",
   "execution_count": 17,
   "metadata": {
    "pycharm": {
     "is_executing": false
    }
   },
   "outputs": [],
   "source": [
    "email = driver.find_element_by_name('session[username_or_email]')"
   ]
  },
  {
   "cell_type": "code",
   "execution_count": 18,
   "metadata": {
    "pycharm": {
     "is_executing": false
    }
   },
   "outputs": [
    {
     "name": "stdout",
     "output_type": "stream",
     "text": [
      "<selenium.webdriver.remote.webelement.WebElement (session=\"93b8e93aeb748e05d109a449ae1a98c6\", element=\"f34b12ce-784a-4046-a30a-59797ed30120\")>\n"
     ]
    }
   ],
   "source": [
    "print(email)"
   ]
  },
  {
   "cell_type": "code",
   "execution_count": 19,
   "metadata": {
    "pycharm": {
     "is_executing": false
    }
   },
   "outputs": [],
   "source": [
    "email.send_keys('PranavKasetti')"
   ]
  },
  {
   "cell_type": "code",
   "execution_count": 20,
   "metadata": {
    "pycharm": {
     "is_executing": false
    }
   },
   "outputs": [],
   "source": [
    "password = driver.find_element_by_name('session[password]')\n",
    "password.send_keys('', Keys.ENTER)"
   ]
  },
  {
   "cell_type": "code",
   "execution_count": 21,
   "metadata": {
    "pycharm": {
     "is_executing": false
    }
   },
   "outputs": [],
   "source": [
    "waiting_func('css selector', \"[aria-label=Profile]\")\n",
    "profile = driver.find_element_by_css_selector(\"a[aria-label='Profile']\")"
   ]
  },
  {
   "cell_type": "code",
   "execution_count": 22,
   "metadata": {
    "pycharm": {
     "is_executing": false
    }
   },
   "outputs": [],
   "source": [
    "profile.click()"
   ]
  },
  {
   "cell_type": "code",
   "execution_count": 23,
   "metadata": {
    "pycharm": {
     "is_executing": false
    }
   },
   "outputs": [],
   "source": [
    "paths = []\n",
    "for _ in range(2):\n",
    "    waiting_func('css selector', \"a[aria-label='View Tweet activity']\")\n",
    "    last_height = driver.execute_script(\"return document.body.scrollHeight\")\n",
    "    traffic_path = driver.find_elements_by_css_selector(\"a[aria-label='View Tweet activity']\")\n",
    "    paths.extend([traffic.get_attribute('href') for traffic in traffic_path])\n",
    "    driver.execute_script(\"window.scrollTo(0, {})\".format(last_height+500))\n",
    "    sleep(3)\n",
    "    new_height = driver.execute_script(\"return document.body.scrollHeight\")\n",
    "    if last_height == new_height:\n",
    "        break"
   ]
  },
  {
   "cell_type": "code",
   "execution_count": 24,
   "metadata": {
    "pycharm": {
     "is_executing": false
    }
   },
   "outputs": [],
   "source": [
    "import pickle\n",
    "\n",
    "def open_url(driver, url):\n",
    "    \"\"\"Open a URL using the driver's base URL\"\"\"\n",
    "    cookies = driver.get_cookies()\n",
    "\n",
    "    dummy_url = '/404error/wtheck'\n",
    "    # Navigate to a dummy url on the same domain.\n",
    "    driver.get(\"https://www.twitter.com\" + dummy_url)\n",
    "\n",
    "    driver.get(url)\n",
    "    for cookie in cookies:\n",
    "        new_cook = { 'name': cookie['name'], 'value': cookie['value'] }\n",
    "        driver.add_cookie(new_cook)\n",
    "    driver.refresh()\n",
    "    sleep(0.5)"
   ]
  },
  {
   "cell_type": "code",
   "execution_count": 27,
   "metadata": {
    "pycharm": {
     "is_executing": false
    }
   },
   "outputs": [],
   "source": [
    "def analyse(path):\n",
    "    open_url(driver, path)\n",
    "    waiting_func(By.TAG_NAME, 'iframe')\n",
    "    iframe = driver.find_element_by_tag_name('iframe')\n",
    "    driver.switch_to.frame(iframe)\n",
    "    waiting_func(By.TAG_NAME, 'body')\n",
    "    detail = driver.find_element_by_tag_name('body')\n",
    "    try:\n",
    "        WebDriverWait(driver, 10).until(\n",
    "            EC.element_to_be_clickable((By.CLASS_NAME, 'ep-MetricTopContainer')))\n",
    "    except TimeoutException as e:\n",
    "        print(\"Wait Timed out\")\n",
    "        print(e)\n",
    "    impression = detail.find_element_by_class_name('ep-MetricTopContainer')\n",
    "    print(impression.text)\n",
    "    try:\n",
    "        WebDriverWait(driver, 3).until(\n",
    "            lambda x: x.find_element(by='class name', value='ep-ViewAllEngagementsButton'))\n",
    "    except TimeoutException:\n",
    "        pass\n",
    "    view_all = driver.find_element_by_class_name('ep-ViewAllEngagementsButton')\n",
    "    view_all.click()\n",
    "    waiting_func('class name', 'ep-EngagementsSection')\n",
    "    engagesection = driver.find_element_by_class_name('ep-EngagementsSection')\n",
    "    waiting_func('class name', 'ep-MetricTopContainer')\n",
    "    engagement = engagesection.find_element_by_class_name('ep-MetricTopContainer')\n",
    "    print(engagement.text)\n",
    "    waiting_func('class name', 'ep-DetailedEngagementsSection')\n",
    "    detail = engagesection.find_element_by_class_name('ep-DetailedEngagementsSection')\n",
    "    waiting_func('class name', 'ep-SubSection')\n",
    "    engagement_details = detail.find_elements_by_class_name('ep-SubSection')\n",
    "    for _ in engagement_details:\n",
    "        print(_.text)"
   ]
  },
  {
   "cell_type": "code",
   "execution_count": 29,
   "metadata": {
    "pycharm": {
     "is_executing": false
    }
   },
   "outputs": [
    {
     "name": "stdout",
     "output_type": "stream",
     "text": [
      "Impressions\n",
      "132\n",
      "Total engagements\n",
      "8\n",
      "Profile clicks\n",
      "4\n",
      "number of clicks on your name, @handle, or profile photo\n",
      "Likes\n",
      "2\n",
      "times people liked this Tweet\n",
      "Follows\n",
      "1\n",
      "number of people who followed you directly from this Tweet\n",
      "Detail expands\n",
      "1\n",
      "times people viewed the details about this Tweet\n",
      "Impressions\n",
      "175\n",
      "Total engagements\n",
      "16\n",
      "Profile clicks\n",
      "11\n",
      "number of clicks on your name, @handle, or profile photo\n",
      "Likes\n",
      "4\n",
      "times people liked this Tweet\n",
      "Detail expands\n",
      "1\n",
      "times people viewed the details about this Tweet\n",
      "Impressions\n",
      "311\n",
      "Total engagements\n",
      "25\n",
      "Profile clicks\n",
      "10\n",
      "number of clicks on your name, @handle, or profile photo\n",
      "Media engagements\n",
      "9\n",
      "number of clicks on your media counted across videos, vines, gifs, and images\n",
      "Link clicks\n",
      "3\n",
      "clicks on a URL or Card in this Tweet\n",
      "Likes\n",
      "2\n",
      "times people liked this Tweet\n",
      "Replies\n",
      "1\n",
      "replies to this Tweet\n",
      "Impressions\n",
      "467\n",
      "Total engagements\n",
      "19\n",
      "Media engagements\n",
      "10\n",
      "number of clicks on your media counted across videos, vines, gifs, and images\n",
      "Profile clicks\n",
      "5\n",
      "number of clicks on your name, @handle, or profile photo\n",
      "Likes\n",
      "4\n",
      "times people liked this Tweet\n",
      "Impressions\n",
      "514\n",
      "Total engagements\n",
      "27\n",
      "Media engagements\n",
      "16\n",
      "number of clicks on your media counted across videos, vines, gifs, and images\n",
      "Profile clicks\n",
      "5\n",
      "number of clicks on your name, @handle, or profile photo\n",
      "Likes\n",
      "4\n",
      "times people liked this Tweet\n",
      "Detail expands\n",
      "2\n",
      "times people viewed the details about this Tweet\n",
      "Impressions\n",
      "549\n",
      "Total engagements\n",
      "6\n",
      "Media engagements\n",
      "3\n",
      "number of clicks on your media counted across videos, vines, gifs, and images\n",
      "Profile clicks\n",
      "3\n",
      "number of clicks on your name, @handle, or profile photo\n",
      "Impressions\n",
      "568\n",
      "Total engagements\n",
      "4\n",
      "Media engagements\n",
      "2\n",
      "number of clicks on your media counted across videos, vines, gifs, and images\n",
      "Likes\n",
      "2\n",
      "times people liked this Tweet\n",
      "Impressions\n",
      "570\n",
      "Total engagements\n",
      "1\n",
      "Likes\n",
      "1\n",
      "times people liked this Tweet\n",
      "Impressions\n",
      "583\n",
      "Total engagements\n",
      "5\n",
      "Profile clicks\n",
      "3\n",
      "number of clicks on your name, @handle, or profile photo\n",
      "Likes\n",
      "2\n",
      "times people liked this Tweet\n",
      "Impressions\n",
      "655\n",
      "Total engagements\n",
      "12\n",
      "Media engagements\n",
      "10\n",
      "number of clicks on your media counted across videos, vines, gifs, and images\n",
      "Likes\n",
      "1\n",
      "times people liked this Tweet\n",
      "Profile clicks\n",
      "1\n",
      "number of clicks on your name, @handle, or profile photo\n"
     ]
    }
   ],
   "source": [
    "for path in paths:\n",
    "    analyse(path)"
   ]
  },
  {
   "cell_type": "code",
   "execution_count": null,
   "metadata": {
    "pycharm": {
     "is_executing": false
    }
   },
   "outputs": [],
   "source": []
  }
 ],
 "metadata": {
  "kernelspec": {
   "display_name": "Python 3",
   "language": "python",
   "name": "python3"
  },
  "language_info": {
   "codemirror_mode": {
    "name": "ipython",
    "version": 3
   },
   "file_extension": ".py",
   "mimetype": "text/x-python",
   "name": "python",
   "nbconvert_exporter": "python",
   "pygments_lexer": "ipython3",
   "version": "3.7.4"
  },
  "pycharm": {
   "stem_cell": {
    "cell_type": "raw",
    "metadata": {
     "collapsed": false
    },
    "source": []
   }
  }
 },
 "nbformat": 4,
 "nbformat_minor": 2
}
